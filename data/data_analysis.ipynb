{
 "cells": [
  {
   "cell_type": "code",
   "execution_count": 1,
   "id": "e21e42f9-a5f5-466a-8ece-a7f91ecfb77e",
   "metadata": {},
   "outputs": [],
   "source": [
    "import os\n",
    "import pandas as pd\n",
    "import numpy as np\n",
    "from cv2 import cv2\n",
    "from tqdm import tqdm\n",
    "import matplotlib.pyplot as plt"
   ]
  },
  {
   "cell_type": "code",
   "execution_count": 2,
   "id": "e786e5a6-bf55-4f8f-9501-55bb2df9054f",
   "metadata": {},
   "outputs": [],
   "source": [
    "feather_dict = {\n",
    "    'wiki': 'wiki_crop',\n",
    "    'imdb': 'imdb',\n",
    "    'utk': 'UTKFace',\n",
    "    'cacd': 'cacd.feather',\n",
    "    'facial': 'facial-age.feather',\n",
    "    'asia': 'All-Age-Faces',\n",
    "    'afad': 'AFAD-Full'\n",
    "}"
   ]
  },
  {
   "cell_type": "code",
   "execution_count": 3,
   "id": "763c3458-f410-437d-8c50-7891d9450700",
   "metadata": {},
   "outputs": [],
   "source": [
    "'''\n",
    "    input:  row: a row of data, containt encoded image information\n",
    "            type: depend on which type of training, using just a original img or combine with 3 neighbor imgs\n",
    "    output: an images list with decoded image information\n",
    "'''\n",
    "def image_decode(row, type='ori'):\n",
    "    row = row[1]\n",
    "    if type == 'ori':\n",
    "        images_list = [row.img_ori]\n",
    "    else:\n",
    "        images_list = [row.img_box1, row.img_box2, row.img_box3]\n",
    "\n",
    "    for idx, img in enumerate(images_list):\n",
    "        img = np.frombuffer(img, np.uint8)\n",
    "        img = cv2.imdecode(img, cv2.IMREAD_COLOR)\n",
    "        images_list[idx] = img\n",
    "\n",
    "    return images_list"
   ]
  },
  {
   "cell_type": "code",
   "execution_count": 4,
   "id": "ef5b0c64-e0d9-4308-bdc7-6da816870f74",
   "metadata": {},
   "outputs": [],
   "source": [
    "'''\n",
    "    input:  data_path: the folder that contants all avaiable data folder in *.feather\n",
    "            source: which data will be used\n",
    "    output: a dataframe which a combination of data in all sources \n",
    "'''\n",
    "def load_data_all(data_path, source):\n",
    "    source = source.split('|')\n",
    "    init_df = True\n",
    "    dataframe = pd.DataFrame()\n",
    "\n",
    "    for s in source:\n",
    "        feather_folder = feather_dict[s]\n",
    "        feather_path = os.path.join(data_path, feather_folder)\n",
    "\n",
    "        all_feather_files = os.listdir(feather_path)\n",
    "\n",
    "        for feather in all_feather_files:\n",
    "\n",
    "            feather_dir = os.path.join(feather_path, feather)\n",
    "            loaded_data = pd.read_feather(feather_dir)\n",
    "\n",
    "            # For first dataframe loaded\n",
    "            if init_df:\n",
    "                dataframe = loaded_data\n",
    "                init_df = False\n",
    "            else:\n",
    "                dataframe = pd.concat([dataframe, loaded_data], ignore_index=True, sort=False)\n",
    "\n",
    "            print(loaded_data.shape)\n",
    "            print(feather_dir)\n",
    "    print(dataframe.shape)\n",
    "\n",
    "    # Filter\n",
    "    dataframe = dataframe[(dataframe['age'] > 0) & (dataframe['age'] < 101)]\n",
    "    dataframe = dataframe.dropna()\n",
    "\n",
    "    return dataframe"
   ]
  },
  {
   "cell_type": "markdown",
   "id": "02dab0e3-098c-4633-bbc0-e2c94542a7af",
   "metadata": {},
   "source": [
    "## Change this to plot different dataset analysis"
   ]
  },
  {
   "cell_type": "code",
   "execution_count": 9,
   "id": "eb822b7d-89f3-4b50-ab44-d52684ba7012",
   "metadata": {},
   "outputs": [
    {
     "name": "stdout",
     "output_type": "stream",
     "text": [
      "(8081, 6)\n",
      "D:\\Dataset\\Feather\\imdb\\imdb_crop.feather\n",
      "(38382, 6)\n",
      "D:\\Dataset\\Feather\\imdb\\imdb_crop_100000.feather\n",
      "(38706, 6)\n",
      "D:\\Dataset\\Feather\\imdb\\imdb_crop_150000.feather\n",
      "(38784, 6)\n",
      "D:\\Dataset\\Feather\\imdb\\imdb_crop_200000.feather\n",
      "(37283, 6)\n",
      "D:\\Dataset\\Feather\\imdb\\imdb_crop_250000.feather\n",
      "(37383, 6)\n",
      "D:\\Dataset\\Feather\\imdb\\imdb_crop_300000.feather\n",
      "(37136, 6)\n",
      "D:\\Dataset\\Feather\\imdb\\imdb_crop_350000.feather\n",
      "(37253, 6)\n",
      "D:\\Dataset\\Feather\\imdb\\imdb_crop_400000.feather\n",
      "(37054, 6)\n",
      "D:\\Dataset\\Feather\\imdb\\imdb_crop_450000.feather\n",
      "(38188, 6)\n",
      "D:\\Dataset\\Feather\\imdb\\imdb_crop_50000.feather\n",
      "(348250, 6)\n"
     ]
    }
   ],
   "source": [
    "data = load_data_all(\"D:\\\\Dataset\\\\Feather\", \"imdb\")"
   ]
  },
  {
   "cell_type": "code",
   "execution_count": 10,
   "id": "fd3ccc96-e9e8-4b57-be3d-bb0a8ff978fd",
   "metadata": {},
   "outputs": [],
   "source": [
    "def plot_count(idx, value):\n",
    "    fig = plt.figure()\n",
    "    ax = fig.add_axes([0,0,1,1])\n",
    "    ax.bar(idx, value)\n",
    "    plt.show()"
   ]
  },
  {
   "cell_type": "code",
   "execution_count": 11,
   "id": "4e4d11f1-acbc-421d-b39f-c67211f19a0b",
   "metadata": {},
   "outputs": [
    {
     "data": {
      "image/png": "[encoded data removed]",
      "text/plain": [
       "<Figure size 432x288 with 1 Axes>"
      ]
     },
     "metadata": {
      "needs_background": "light"
     },
     "output_type": "display_data"
    }
   ],
   "source": [
    "gen = data['gen'].value_counts().to_frame()\n",
    "idx = [\"M\", \"F\"]\n",
    "value = gen.gen\n",
    "plot_count(idx, value)"
   ]
  },
  {
   "cell_type": "code",
   "execution_count": 12,
   "id": "2a5707db-f8ee-4dbb-8432-894ca3154006",
   "metadata": {},
   "outputs": [
    {
     "data": {
      "image/png": "[encoded data removed]",
      "text/plain": [
       "<Figure size 432x288 with 1 Axes>"
      ]
     },
     "metadata": {
      "needs_background": "light"
     },
     "output_type": "display_data"
    }
   ],
   "source": [
    "age = data['age'].value_counts().to_frame().sort_index()\n",
    "idx = age.index\n",
    "value = age.age\n",
    "plot_count(idx, value)"
   ]
  },
  {
   "cell_type": "code",
   "execution_count": 111,
   "id": "814294a9-8c1b-44c7-b212-6b919e8a77d9",
   "metadata": {},
   "outputs": [
    {
     "name": "stdout",
     "output_type": "stream",
     "text": [
      "10\n"
     ]
    }
   ],
   "source": [
    "age = 10\n",
    "gap = 20\n",
    "print(age)"
   ]
  },
  {
   "cell_type": "code",
   "execution_count": 122,
   "id": "8f01480e-c557-43d7-a5d9-6823fcbbebf1",
   "metadata": {},
   "outputs": [
    {
     "name": "stdout",
     "output_type": "stream",
     "text": [
      "-10 30\n",
      "[0.52105263 0.57315789 0.62526316 0.67736842 0.72947368 0.78157895\n",
      " 0.83368421 0.88578947 0.93789474 0.99      ]\n",
      "[0. 0. 0. 0. 0. 0. 0. 0. 0. 0.]\n",
      "[0.         0.05210526 0.10421053 0.15631579 0.20842105 0.26052632\n",
      " 0.31263158 0.36473684 0.41684211 0.46894737 0.52105263 0.57315789\n",
      " 0.62526316 0.67736842 0.72947368 0.78157895 0.83368421 0.88578947\n",
      " 0.93789474 0.99      ] [0.99       0.93789474 0.88578947 0.83368421 0.78157895 0.72947368\n",
      " 0.67736842 0.62526316 0.57315789 0.52105263 0.46894737 0.41684211\n",
      " 0.36473684 0.31263158 0.26052632 0.20842105 0.15631579 0.10421053\n",
      " 0.05210526 0.        ]\n"
     ]
    }
   ],
   "source": [
    "a = np.zeros(shape=[100])\n",
    "\n",
    "min_age = age - gap\n",
    "max_age = age + gap\n",
    "\n",
    "print(min_age, max_age)\n",
    "\n",
    "# ls_min = np.logspace(0, 0.99, num=gap)/10\n",
    "# ls_max = np.logspace(0.99, 0, num=gap)/10\n",
    "\n",
    "ls_min = np.linspace(0, 0.99, num=gap)\n",
    "ls_max = np.linspace(0.99, 0, num=gap)\n",
    "\n",
    "print(ls_min[-min_age:])\n",
    "print(a[0:age])\n",
    "\n",
    "if min_age <= 0:\n",
    "    a[0:age] = ls_min[-min_age:]\n",
    "    a[age:max_age] = ls_max\n",
    "elif max_age >= 100:\n",
    "    a[min_age+1:age+1] = ls_min\n",
    "    a[age:101] = ls_max[:max_age-100+1]\n",
    "\n",
    "print(ls_min, ls_max)"
   ]
  },
  {
   "cell_type": "code",
   "execution_count": 121,
   "id": "514842be-99cd-4a3a-9dbd-f405ae4ec956",
   "metadata": {},
   "outputs": [
    {
     "data": {
      "text/plain": [
       "[<matplotlib.lines.Line2D at 0x2e0e462efc8>]"
      ]
     },
     "execution_count": 121,
     "metadata": {},
     "output_type": "execute_result"
    },
    {
     "data": {
      "image/png": "[encoded data removed]",
      "text/plain": [
       "<Figure size 432x288 with 1 Axes>"
      ]
     },
     "metadata": {
      "needs_background": "light"
     },
     "output_type": "display_data"
    }
   ],
   "source": [
    "plt.plot(a)"
   ]
  },
  {
   "cell_type": "code",
   "execution_count": 96,
   "id": "13f5faad-6ccc-412e-a9b6-a1296085a05a",
   "metadata": {},
   "outputs": [
    {
     "data": {
      "text/plain": [
       "(7.687576910006674,\n",
       " 8.667517692753204,\n",
       " 9.772372209558107,\n",
       " 8.667517692753202,\n",
       " 7.687576910006673)"
      ]
     },
     "execution_count": 96,
     "metadata": {},
     "output_type": "execute_result"
    }
   ],
   "source": [
    "a[age-2], a[age-1], a[age], a[age+1], a[age+2]"
   ]
  },
  {
   "cell_type": "code",
   "execution_count": 99,
   "id": "95fe5184-9002-4d2f-9359-a4e1e0724457",
   "metadata": {},
   "outputs": [
    {
     "data": {
      "text/plain": [
       "array([0.        , 0.        , 0.        , 0.        , 0.        ,\n",
       "       0.        , 0.        , 0.        , 0.        , 0.        ,\n",
       "       0.1       , 0.11274707, 0.12711902, 0.14332297, 0.16159245,\n",
       "       0.18219075, 0.20541473, 0.23159909, 0.26112118, 0.29440648,\n",
       "       0.33193468, 0.37424663, 0.42195211, 0.47573863, 0.53638137,\n",
       "       0.60475428, 0.68184272, 0.76875769, 0.86675177, 0.97723722,\n",
       "       0.86675177, 0.76875769, 0.68184272, 0.60475428, 0.53638137,\n",
       "       0.47573863, 0.42195211, 0.37424663, 0.33193468, 0.29440648,\n",
       "       0.26112118, 0.23159909, 0.20541473, 0.18219075, 0.16159245,\n",
       "       0.14332297, 0.12711902, 0.11274707, 0.1       , 0.        ,\n",
       "       0.        , 0.        , 0.        , 0.        , 0.        ,\n",
       "       0.        , 0.        , 0.        , 0.        , 0.        ,\n",
       "       0.        , 0.        , 0.        , 0.        , 0.        ,\n",
       "       0.        , 0.        , 0.        , 0.        , 0.        ,\n",
       "       0.        , 0.        , 0.        , 0.        , 0.        ,\n",
       "       0.        , 0.        , 0.        , 0.        , 0.        ,\n",
       "       0.        , 0.        , 0.        , 0.        , 0.        ,\n",
       "       0.        , 0.        , 0.        , 0.        , 0.        ,\n",
       "       0.        , 0.        , 0.        , 0.        , 0.        ,\n",
       "       0.        , 0.        , 0.        , 0.        , 0.        ])"
      ]
     },
     "execution_count": 99,
     "metadata": {},
     "output_type": "execute_result"
    }
   ],
   "source": [
    "a"
   ]
  },
  {
   "cell_type": "code",
   "execution_count": 124,
   "id": "0e0f8147-cdd2-4e51-875c-b9d154ae51d6",
   "metadata": {},
   "outputs": [
    {
     "data": {
      "text/plain": [
       "0.6666666666666666"
      ]
     },
     "execution_count": 124,
     "metadata": {},
     "output_type": "execute_result"
    }
   ],
   "source": [
    "2/3"
   ]
  },
  {
   "cell_type": "code",
   "execution_count": null,
   "id": "0163a4dc-2ca1-4404-9f81-87b7b65bf997",
   "metadata": {},
   "outputs": [],
   "source": []
  }
 ],
 "metadata": {
  "kernelspec": {
   "display_name": "Python 3 (ipykernel)",
   "language": "python",
   "name": "python3"
  },
  "language_info": {
   "codemirror_mode": {
    "name": "ipython",
    "version": 3
   },
   "file_extension": ".py",
   "mimetype": "text/x-python",
   "name": "python",
   "nbconvert_exporter": "python",
   "pygments_lexer": "ipython3",
   "version": "3.7.11"
  }
 },
 "nbformat": 4,
 "nbformat_minor": 5
}
