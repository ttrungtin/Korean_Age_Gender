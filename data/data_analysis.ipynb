{
 "cells": [
  {
   "cell_type": "code",
   "execution_count": 1,
   "id": "e21e42f9-a5f5-466a-8ece-a7f91ecfb77e",
   "metadata": {},
   "outputs": [],
   "source": [
    "import os\n",
    "import pandas as pd\n",
    "import numpy as np\n",
    "import cv2\n",
    "from tqdm import tqdm\n",
    "import matplotlib.pyplot as plt"
   ]
  },
  {
   "cell_type": "code",
   "execution_count": 2,
   "id": "e786e5a6-bf55-4f8f-9501-55bb2df9054f",
   "metadata": {},
   "outputs": [],
   "source": [
    "feather_dict = {\n",
    "    'wiki': 'wiki_crop',\n",
    "    'imdb': 'imdb',\n",
    "    'utk': 'UTKFace',\n",
    "    'cacd': 'cacd.feather',\n",
    "    'facial': 'facial-age.feather',\n",
    "    'asia': 'All-Age-Faces',\n",
    "    'afad': 'AFAD-Full'\n",
    "}"
   ]
  },
  {
   "cell_type": "code",
   "execution_count": 3,
   "id": "763c3458-f410-437d-8c50-7891d9450700",
   "metadata": {},
   "outputs": [],
   "source": [
    "'''\n",
    "    input:  row: a row of data, containt encoded image information\n",
    "            type: depend on which type of training, using just a original img or combine with 3 neighbor imgs\n",
    "    output: an images list with decoded image information\n",
    "'''\n",
    "def image_decode(row, type='ori'):\n",
    "    row = row[1]\n",
    "    if type == 'ori':\n",
    "        images_list = [row.img_ori]\n",
    "    else:\n",
    "        images_list = [row.img_box1, row.img_box2, row.img_box3]\n",
    "\n",
    "    for idx, img in enumerate(images_list):\n",
    "        img = np.frombuffer(img, np.uint8)\n",
    "        img = cv2.imdecode(img, cv2.IMREAD_COLOR)\n",
    "        images_list[idx] = img\n",
    "\n",
    "    return images_list"
   ]
  },
  {
   "cell_type": "code",
   "execution_count": 4,
   "id": "ef5b0c64-e0d9-4308-bdc7-6da816870f74",
   "metadata": {},
   "outputs": [],
   "source": [
    "'''\n",
    "    input:  data_path: the folder that contants all avaiable data folder in *.feather\n",
    "            source: which data will be used\n",
    "    output: a dataframe which a combination of data in all sources \n",
    "'''\n",
    "def load_data_all(data_path, source):\n",
    "    source = source.split('|')\n",
    "    init_df = True\n",
    "    dataframe = pd.DataFrame()\n",
    "\n",
    "    for s in source:\n",
    "        feather_folder = feather_dict[s]\n",
    "        feather_path = os.path.join(data_path, feather_folder)\n",
    "\n",
    "        all_feather_files = os.listdir(feather_path)\n",
    "\n",
    "        for feather in all_feather_files:\n",
    "\n",
    "            feather_dir = os.path.join(feather_path, feather)\n",
    "            loaded_data = pd.read_feather(feather_dir)\n",
    "\n",
    "            # For first dataframe loaded\n",
    "            if init_df:\n",
    "                dataframe = loaded_data\n",
    "                init_df = False\n",
    "            else:\n",
    "                dataframe = pd.concat([dataframe, loaded_data], ignore_index=True, sort=False)\n",
    "\n",
    "            print(loaded_data.shape)\n",
    "            print(feather_dir)\n",
    "    print(dataframe.shape)\n",
    "\n",
    "    # Filter\n",
    "    dataframe = dataframe[(dataframe['age'] > 0) & (dataframe['age'] < 101)]\n",
    "    dataframe = dataframe.dropna()\n",
    "\n",
    "    return dataframe"
   ]
  },
  {
   "cell_type": "markdown",
   "id": "02dab0e3-098c-4633-bbc0-e2c94542a7af",
   "metadata": {},
   "source": [
    "## Change this to plot different dataset analysis"
   ]
  },
  {
   "cell_type": "code",
   "execution_count": 9,
   "id": "eb822b7d-89f3-4b50-ab44-d52684ba7012",
   "metadata": {},
   "outputs": [
    {
     "name": "stdout",
     "output_type": "stream",
     "text": [
      "(8081, 6)\n",
      "D:\\Data\\imdb\\imdb_crop.feather\n",
      "(38382, 6)\n",
      "D:\\Data\\imdb\\imdb_crop_100000.feather\n",
      "(38706, 6)\n",
      "D:\\Data\\imdb\\imdb_crop_150000.feather\n",
      "(38784, 6)\n",
      "D:\\Data\\imdb\\imdb_crop_200000.feather\n",
      "(37283, 6)\n",
      "D:\\Data\\imdb\\imdb_crop_250000.feather\n",
      "(37383, 6)\n",
      "D:\\Data\\imdb\\imdb_crop_300000.feather\n",
      "(37136, 6)\n",
      "D:\\Data\\imdb\\imdb_crop_350000.feather\n",
      "(37253, 6)\n",
      "D:\\Data\\imdb\\imdb_crop_400000.feather\n",
      "(37054, 6)\n",
      "D:\\Data\\imdb\\imdb_crop_450000.feather\n",
      "(38188, 6)\n",
      "D:\\Data\\imdb\\imdb_crop_50000.feather\n",
      "(348250, 6)\n"
     ]
    }
   ],
   "source": [
    "data = load_data_all(\"D:\\Data\", \"imdb\")"
   ]
  },
  {
   "cell_type": "code",
   "execution_count": 10,
   "id": "fd3ccc96-e9e8-4b57-be3d-bb0a8ff978fd",
   "metadata": {},
   "outputs": [],
   "source": [
    "def plot_count(idx, value):\n",
    "    fig = plt.figure()\n",
    "    ax = fig.add_axes([0,0,1,1])\n",
    "    ax.bar(idx, value)\n",
    "    plt.show()"
   ]
  },
  {
   "cell_type": "code",
   "execution_count": 11,
   "id": "4e4d11f1-acbc-421d-b39f-c67211f19a0b",
   "metadata": {},
   "outputs": [
    {
     "data": {
      "image/png": "[encoded data removed]",
      "text/plain": [
       "<Figure size 432x288 with 1 Axes>"
      ]
     },
     "metadata": {
      "needs_background": "light"
     },
     "output_type": "display_data"
    }
   ],
   "source": [
    "gen = data['gen'].value_counts().to_frame()\n",
    "idx = [\"M\", \"F\"]\n",
    "value = gen.gen\n",
    "plot_count(idx, value)"
   ]
  },
  {
   "cell_type": "code",
   "execution_count": 12,
   "id": "2a5707db-f8ee-4dbb-8432-894ca3154006",
   "metadata": {},
   "outputs": [
    {
     "data": {
      "image/png": "[encoded data removed]",
      "text/plain": [
       "<Figure size 432x288 with 1 Axes>"
      ]
     },
     "metadata": {
      "needs_background": "light"
     },
     "output_type": "display_data"
    }
   ],
   "source": [
    "age = data['age'].value_counts().to_frame().sort_index()\n",
    "idx = age.index\n",
    "value = age.age\n",
    "plot_count(idx, value)"
   ]
  },
  {
   "cell_type": "code",
   "execution_count": null,
   "id": "814294a9-8c1b-44c7-b212-6b919e8a77d9",
   "metadata": {},
   "outputs": [],
   "source": []
  }
 ],
 "metadata": {
  "kernelspec": {
   "display_name": "Python 3",
   "language": "python",
   "name": "python3"
  },
  "language_info": {
   "codemirror_mode": {
    "name": "ipython",
    "version": 3
   },
   "file_extension": ".py",
   "mimetype": "text/x-python",
   "name": "python",
   "nbconvert_exporter": "python",
   "pygments_lexer": "ipython3",
   "version": "3.8.8"
  }
 },
 "nbformat": 4,
 "nbformat_minor": 5
}
