{
 "cells": [
  {
   "cell_type": "code",
   "execution_count": 1,
   "id": "e21e42f9-a5f5-466a-8ece-a7f91ecfb77e",
   "metadata": {},
   "outputs": [],
   "source": [
    "import os\n",
    "import pandas as pd\n",
    "import numpy as np\n",
    "from cv2 import cv2\n",
    "from tqdm import tqdm\n",
    "import matplotlib.pyplot as plt"
   ]
  },
  {
   "cell_type": "code",
   "execution_count": 2,
   "id": "e786e5a6-bf55-4f8f-9501-55bb2df9054f",
   "metadata": {},
   "outputs": [],
   "source": [
    "feather_dict = {\n",
    "    'wiki': 'wiki_crop',\n",
    "    'imdb': 'imdb',\n",
    "    'utk': 'UTKFace',\n",
    "    'cacd': 'cacd',\n",
    "    'facial': 'Facial',\n",
    "    'asia': 'All-Age-Faces',\n",
    "    'afad': 'AFAD-Full'\n",
    "}"
   ]
  },
  {
   "cell_type": "code",
   "execution_count": 3,
   "id": "763c3458-f410-437d-8c50-7891d9450700",
   "metadata": {},
   "outputs": [],
   "source": [
    "'''\n",
    "    input:  row: a row of data, containt encoded image information\n",
    "            type: depend on which type of training, using just a original img or combine with 3 neighbor imgs\n",
    "    output: an images list with decoded image information\n",
    "'''\n",
    "def image_decode(row, type='ori'):\n",
    "    row = row[1]\n",
    "    if type == 'ori':\n",
    "        images_list = [row.img_ori]\n",
    "    else:\n",
    "        images_list = [row.img_box1, row.img_box2, row.img_box3]\n",
    "\n",
    "    for idx, img in enumerate(images_list):\n",
    "        img = np.frombuffer(img, np.uint8)\n",
    "        img = cv2.imdecode(img, cv2.IMREAD_COLOR)\n",
    "        images_list[idx] = img\n",
    "\n",
    "    return images_list"
   ]
  },
  {
   "cell_type": "code",
   "execution_count": 4,
   "id": "ef5b0c64-e0d9-4308-bdc7-6da816870f74",
   "metadata": {},
   "outputs": [],
   "source": [
    "'''\n",
    "    input:  data_path: the folder that contants all avaiable data folder in *.feather\n",
    "            source: which data will be used\n",
    "    output: a dataframe which a combination of data in all sources \n",
    "'''\n",
    "def load_data_all(data_path, source):\n",
    "    source = source.split('|')\n",
    "    init_df = True\n",
    "    dataframe = pd.DataFrame()\n",
    "\n",
    "    for s in source:\n",
    "        feather_folder = feather_dict[s]\n",
    "        feather_path = os.path.join(data_path, feather_folder)\n",
    "\n",
    "        all_feather_files = os.listdir(feather_path)\n",
    "\n",
    "        for feather in all_feather_files:\n",
    "\n",
    "            feather_dir = os.path.join(feather_path, feather)\n",
    "            loaded_data = pd.read_feather(feather_dir)\n",
    "\n",
    "            # For first dataframe loaded\n",
    "            if init_df:\n",
    "                dataframe = loaded_data\n",
    "                init_df = False\n",
    "            else:\n",
    "                dataframe = pd.concat([dataframe, loaded_data], ignore_index=True, sort=False)\n",
    "\n",
    "            print(loaded_data.shape)\n",
    "            print(feather_dir)\n",
    "    print(dataframe.shape)\n",
    "\n",
    "    # Filter\n",
    "    dataframe = dataframe[(dataframe['age'] > 0) & (dataframe['age'] < 101)]\n",
    "    dataframe = dataframe.dropna()\n",
    "\n",
    "    return dataframe"
   ]
  },
  {
   "cell_type": "markdown",
   "id": "02dab0e3-098c-4633-bbc0-e2c94542a7af",
   "metadata": {},
   "source": [
    "## Change this to plot different dataset analysis"
   ]
  },
  {
   "cell_type": "code",
   "execution_count": 5,
   "id": "eb822b7d-89f3-4b50-ab44-d52684ba7012",
   "metadata": {},
   "outputs": [
    {
     "name": "stdout",
     "output_type": "stream",
     "text": [
      "(8081, 6)\n",
      "D:\\Dataset\\Feather\\imdb\\imdb_crop.feather\n",
      "(38382, 6)\n",
      "D:\\Dataset\\Feather\\imdb\\imdb_crop_100000.feather\n",
      "(38706, 6)\n",
      "D:\\Dataset\\Feather\\imdb\\imdb_crop_150000.feather\n",
      "(38784, 6)\n",
      "D:\\Dataset\\Feather\\imdb\\imdb_crop_200000.feather\n",
      "(37283, 6)\n",
      "D:\\Dataset\\Feather\\imdb\\imdb_crop_250000.feather\n",
      "(37383, 6)\n",
      "D:\\Dataset\\Feather\\imdb\\imdb_crop_300000.feather\n",
      "(37136, 6)\n",
      "D:\\Dataset\\Feather\\imdb\\imdb_crop_350000.feather\n",
      "(37253, 6)\n",
      "D:\\Dataset\\Feather\\imdb\\imdb_crop_400000.feather\n",
      "(37054, 6)\n",
      "D:\\Dataset\\Feather\\imdb\\imdb_crop_450000.feather\n",
      "(38188, 6)\n",
      "D:\\Dataset\\Feather\\imdb\\imdb_crop_50000.feather\n",
      "(348250, 6)\n"
     ]
    }
   ],
   "source": [
    "data = load_data_all(\"D:\\\\Dataset\\\\Feather\", \"imdb\")"
   ]
  },
  {
   "cell_type": "code",
   "execution_count": 6,
   "id": "fd3ccc96-e9e8-4b57-be3d-bb0a8ff978fd",
   "metadata": {},
   "outputs": [],
   "source": [
    "def plot_count(idx, value):\n",
    "    fig = plt.figure()\n",
    "    ax = fig.add_axes([0,0,1,1])\n",
    "    ax.bar(idx, value)\n",
    "    plt.show()"
   ]
  },
  {
   "cell_type": "code",
   "execution_count": 7,
   "id": "4e4d11f1-acbc-421d-b39f-c67211f19a0b",
   "metadata": {},
   "outputs": [
    {
     "data": {
      "image/png": "[encoded data removed]",
      "text/plain": [
       "<Figure size 432x288 with 1 Axes>"
      ]
     },
     "metadata": {
      "needs_background": "light"
     },
     "output_type": "display_data"
    }
   ],
   "source": [
    "gen = data['gen'].value_counts().to_frame()\n",
    "idx = [\"M\", \"F\"]\n",
    "value = gen.gen\n",
    "plot_count(idx, value)"
   ]
  },
  {
   "cell_type": "code",
   "execution_count": 8,
   "id": "2a5707db-f8ee-4dbb-8432-894ca3154006",
   "metadata": {},
   "outputs": [
    {
     "data": {
      "image/png": "[encoded data removed]",
      "text/plain": [
       "<Figure size 432x288 with 1 Axes>"
      ]
     },
     "metadata": {
      "needs_background": "light"
     },
     "output_type": "display_data"
    }
   ],
   "source": [
    "age = data['age'].value_counts().to_frame().sort_index()\n",
    "idx = age.index\n",
    "value = age.age\n",
    "plot_count(idx, value)"
   ]
  },
  {
   "cell_type": "code",
   "execution_count": 9,
   "id": "814294a9-8c1b-44c7-b212-6b919e8a77d9",
   "metadata": {},
   "outputs": [
    {
     "name": "stdout",
     "output_type": "stream",
     "text": [
      "80\n"
     ]
    }
   ],
   "source": [
    "age = 80\n",
    "gap = 10\n",
    "print(age)"
   ]
  },
  {
   "cell_type": "code",
   "execution_count": 10,
   "id": "8f01480e-c557-43d7-a5d9-6823fcbbebf1",
   "metadata": {},
   "outputs": [],
   "source": [
    "def convert_age(age, gap):\n",
    "    min_age = age - gap\n",
    "    max_age = age + gap\n",
    "\n",
    "    # print(min_age, max_age)\n",
    "\n",
    "    # ls_min = np.logspace(0, 0.99, num=gap)/10\n",
    "    # ls_max = np.logspace(0.99, 0, num=gap)/10\n",
    "\n",
    "    # ls_min = np.linspace(0, 0.99, num=gap)\n",
    "    # ls_max = np.linspace(0.99, 0, num=gap)\n",
    "\n",
    "    ls = np.linspace(0, 0.99, num=gap + 1)\n",
    "    # ls = np.logspace(0, 0.99, num=gap + 1)/10\n",
    "    ls_mirror = np.concatenate([ls[:-1], ls[::-1]])\n",
    "\n",
    "    # print(ls_mirror)\n",
    "    # print(ls_mirror.shape)\n",
    "\n",
    "    if min_age <= 0:\n",
    "        # a[0:age+1] = [0, ls_min[-min_age:]]\n",
    "        # a[age-1:max_age] = ls_max[-1:]\n",
    "        # a[0:len(ls[-min_age:])] = ls[-min_age-1:]\n",
    "\n",
    "        ls_filter = ls_mirror[-min_age:]\n",
    "        output = np.concatenate([ls_filter, np.zeros(shape=100-len(ls_filter))])\n",
    "\n",
    "    elif max_age >= 100:\n",
    "        # a[min_age+1:age+1] = ls_min\n",
    "        # a[age:101] = ls_max[:max_age-100+1]\n",
    "\n",
    "        ls_filter = ls_mirror[:100-min_age]\n",
    "        output = np.concatenate([np.zeros(shape=100-len(ls_filter)), ls_filter])\n",
    "        \n",
    "    else:\n",
    "        output = np.concatenate([np.zeros(shape=min_age), ls_mirror, np.zeros(shape=100-max_age-1)])\n",
    "        # print(output.shape)\n",
    "        \n",
    "    # plt.bar(output)\n",
    "    # print(output[age-2], output[age-1], output[age], output[age+1], output[age+2])\n",
    "    return output"
   ]
  },
  {
   "cell_type": "code",
   "execution_count": 11,
   "id": "be5cb17d-5397-4606-9c6e-d8f907470103",
   "metadata": {},
   "outputs": [],
   "source": [
    "a30 = convert_age(30, gap)\n",
    "a30_3 = convert_age(30, 3)\n",
    "a30_5 = convert_age(30, 5)\n",
    "a30_7 = convert_age(30, 7)"
   ]
  },
  {
   "cell_type": "code",
   "execution_count": 13,
   "id": "9bd3e235-8d18-4ea6-a0e9-61c2d8f12d9e",
   "metadata": {},
   "outputs": [
    {
     "data": {
      "text/plain": [
       "(100,)"
      ]
     },
     "execution_count": 13,
     "metadata": {},
     "output_type": "execute_result"
    }
   ],
   "source": [
    "name = np.arange(100)\n",
    "name.shape"
   ]
  },
  {
   "cell_type": "code",
   "execution_count": 14,
   "id": "836d00e6-237a-4e01-a8c4-869ee5cd071d",
   "metadata": {},
   "outputs": [],
   "source": [
    "a30[a30 == 0] = 0.001\n",
    "a30_3[a30_3 == 0] = 0.001\n",
    "a30_5[a30_5 == 0] = 0.001\n",
    "a30_7[a30_7 == 0] = 0.001"
   ]
  },
  {
   "cell_type": "code",
   "execution_count": 15,
   "id": "2ab56428-75f7-48f4-aa3b-ef1d3dba63da",
   "metadata": {},
   "outputs": [
    {
     "data": {
      "text/plain": [
       "(100,)"
      ]
     },
     "execution_count": 15,
     "metadata": {},
     "output_type": "execute_result"
    }
   ],
   "source": [
    "a30.shape"
   ]
  },
  {
   "cell_type": "code",
   "execution_count": 16,
   "id": "6593bfc8-abbf-4fac-8358-30ad46ef4615",
   "metadata": {},
   "outputs": [
    {
     "ename": "NameError",
     "evalue": "name 'gradientbars' is not defined",
     "output_type": "error",
     "traceback": [
      "\u001b[1;31m---------------------------------------------------------------------------\u001b[0m",
      "\u001b[1;31mNameError\u001b[0m                                 Traceback (most recent call last)",
      "\u001b[1;32m~\\AppData\\Local\\Temp/ipykernel_9488/620885859.py\u001b[0m in \u001b[0;36m<module>\u001b[1;34m\u001b[0m\n\u001b[0;32m      6\u001b[0m \u001b[0mbar\u001b[0m \u001b[1;33m=\u001b[0m \u001b[0max\u001b[0m\u001b[1;33m.\u001b[0m\u001b[0mbar\u001b[0m\u001b[1;33m(\u001b[0m\u001b[0mname\u001b[0m\u001b[1;33m,\u001b[0m\u001b[0ma30\u001b[0m\u001b[1;33m)\u001b[0m\u001b[1;33m\u001b[0m\u001b[1;33m\u001b[0m\u001b[0m\n\u001b[0;32m      7\u001b[0m \u001b[1;33m\u001b[0m\u001b[0m\n\u001b[1;32m----> 8\u001b[1;33m \u001b[0mgradientbars\u001b[0m\u001b[1;33m(\u001b[0m\u001b[0mbar\u001b[0m\u001b[1;33m)\u001b[0m\u001b[1;33m\u001b[0m\u001b[1;33m\u001b[0m\u001b[0m\n\u001b[0m\u001b[0;32m      9\u001b[0m \u001b[1;33m\u001b[0m\u001b[0m\n\u001b[0;32m     10\u001b[0m \u001b[0mplt\u001b[0m\u001b[1;33m.\u001b[0m\u001b[0mshow\u001b[0m\u001b[1;33m(\u001b[0m\u001b[1;33m)\u001b[0m\u001b[1;33m\u001b[0m\u001b[1;33m\u001b[0m\u001b[0m\n",
      "\u001b[1;31mNameError\u001b[0m: name 'gradientbars' is not defined"
     ]
    },
    {
     "data": {
      "image/png": "[encoded data removed]",
      "text/plain": [
       "<Figure size 432x288 with 1 Axes>"
      ]
     },
     "metadata": {
      "needs_background": "light"
     },
     "output_type": "display_data"
    }
   ],
   "source": [
    "# plt.bar(name, a30)\n",
    "# # plt.plot(a30)\n",
    "\n",
    "fig, ax = plt.subplots()\n",
    "\n",
    "bar = ax.bar(name,a30)\n",
    "\n",
    "gradientbars(bar)\n",
    "\n",
    "plt.show() "
   ]
  },
  {
   "cell_type": "code",
   "execution_count": 18,
   "id": "d95cc8e7-f5e0-4f0a-acd2-c5218905e2f7",
   "metadata": {},
   "outputs": [
    {
     "data": {
      "image/png": "[encoded data removed]",
      "text/plain": [
       "<Figure size 1440x360 with 4 Axes>"
      ]
     },
     "metadata": {
      "needs_background": "light"
     },
     "output_type": "display_data"
    }
   ],
   "source": [
    "\n",
    "fig, ax = plt.subplots(1, 4, figsize=[20, 5])\n",
    "\n",
    "bar = ax[0].bar(name[15:55], a30_3[15:55])\n",
    "bar1 = ax[1].bar(name[15:55], a30_5[15:55])\n",
    "bar2 = ax[2].bar(name[15:55], a30_7[15:55])\n",
    "bar3 = ax[3].bar(name[15:55], a30[15:55])\n",
    "\n",
    "ax[0].set_ylabel('Score')\n",
    "\n",
    "ax[0].set_xlabel('Age')\n",
    "ax[1].set_xlabel('Age')\n",
    "ax[2].set_xlabel('Age')\n",
    "ax[3].set_xlabel('Age')\n",
    "\n",
    "\n",
    "def gradientbars_sliced(bars):\n",
    "    ax = bars[0].axes\n",
    "    xmin, xmax = ax.get_xlim()\n",
    "    ymin, ymax = ax.get_ylim()\n",
    "    for bar in bars:\n",
    "        bar.set_zorder(1)\n",
    "        bar.set_facecolor(\"none\")\n",
    "        x, y = bar.get_xy()\n",
    "        w, h = bar.get_width(), bar.get_height()\n",
    "        grad = np.linspace(y, y + h, 256).reshape(256, 1)\n",
    "        ax.imshow(grad, extent=[x, x + w, y, y + h], aspect=\"auto\", zorder=0, origin='lower',\n",
    "                  vmin=ymin, vmax=ymax, cmap='magma')\n",
    "    ax.axis([xmin, xmax, ymin, ymax])\n",
    "\n",
    "gradientbars_sliced(bar)\n",
    "gradientbars_sliced(bar1)\n",
    "gradientbars_sliced(bar2)\n",
    "gradientbars_sliced(bar3)\n",
    "\n",
    "plt.savefig('age.jpg')\n"
   ]
  },
  {
   "cell_type": "code",
   "execution_count": null,
   "id": "b7466825-f9e2-44e6-af76-eec8926c0823",
   "metadata": {},
   "outputs": [],
   "source": []
  },
  {
   "cell_type": "code",
   "execution_count": null,
   "id": "8ec0442e-e177-4da2-8709-537bfa402d43",
   "metadata": {},
   "outputs": [],
   "source": []
  },
  {
   "cell_type": "code",
   "execution_count": null,
   "id": "17ed775e-7ba1-4785-84c9-1db11e00a112",
   "metadata": {},
   "outputs": [],
   "source": []
  },
  {
   "cell_type": "code",
   "execution_count": 134,
   "id": "386e89cd-2a7f-47ab-b71b-01107d274eb6",
   "metadata": {},
   "outputs": [],
   "source": [
    "import tensorflow as tf\n",
    "from focal_loss import sparse_categorical_focal_loss\n",
    "from focal_loss import SparseCategoricalFocalLoss\n",
    "from tensorflow.keras import backend as K"
   ]
  },
  {
   "cell_type": "code",
   "execution_count": 16,
   "id": "5cfd3b39-843b-4bd8-a9ed-fe26e2926292",
   "metadata": {},
   "outputs": [
    {
     "data": {
      "text/plain": [
       "1.5946951056493552"
      ]
     },
     "execution_count": 16,
     "metadata": {},
     "output_type": "execute_result"
    }
   ],
   "source": [
    "y_true = a30\n",
    "y_pred = a31\n",
    "# Using 'auto'/'sum_over_batch_size' reduction type.\n",
    "kl = tf.keras.losses.KLDivergence()\n",
    "kl(y_true, y_pred).numpy()"
   ]
  },
  {
   "cell_type": "code",
   "execution_count": 17,
   "id": "5221c4c5-16a7-4a49-9f39-916768186415",
   "metadata": {},
   "outputs": [
    {
     "data": {
      "text/plain": [
       "25.180986516794974"
      ]
     },
     "execution_count": 17,
     "metadata": {},
     "output_type": "execute_result"
    }
   ],
   "source": [
    "y_true = a30\n",
    "y_pred = a35\n",
    "# Using 'auto'/'sum_over_batch_size' reduction type.\n",
    "kl = tf.keras.losses.KLDivergence()\n",
    "kl(y_true, y_pred).numpy()"
   ]
  },
  {
   "cell_type": "code",
   "execution_count": 18,
   "id": "c5fba482-d189-49d0-97cc-7ba4b13c16cd",
   "metadata": {},
   "outputs": [
    {
     "data": {
      "text/plain": [
       "25.180986516794974"
      ]
     },
     "execution_count": 18,
     "metadata": {},
     "output_type": "execute_result"
    }
   ],
   "source": [
    "y_true = a30\n",
    "y_pred = a25\n",
    "# Using 'auto'/'sum_over_batch_size' reduction type.\n",
    "kl = tf.keras.losses.KLDivergence()\n",
    "kl(y_true, y_pred).numpy()"
   ]
  },
  {
   "cell_type": "code",
   "execution_count": 130,
   "id": "b0e0c3fc-1574-45ab-be16-e63f8846f3f4",
   "metadata": {},
   "outputs": [],
   "source": [
    "y_true = a30\n",
    "y_pred = a31"
   ]
  },
  {
   "cell_type": "code",
   "execution_count": 35,
   "id": "72e91b4b-8bfe-4e17-9817-610d1343064b",
   "metadata": {},
   "outputs": [
    {
     "data": {
      "text/plain": [
       "array([0.   , 0.   , 0.   , 0.   , 0.   , 0.   , 0.   , 0.   , 0.   ,\n",
       "       0.   , 0.   , 0.   , 0.   , 0.   , 0.   , 0.   , 0.   , 0.   ,\n",
       "       0.   , 0.   , 0.   , 0.   , 0.099, 0.198, 0.297, 0.396, 0.495,\n",
       "       0.594, 0.693, 0.792, 0.891, 0.99 , 0.891, 0.792, 0.693, 0.594,\n",
       "       0.495, 0.396, 0.297, 0.198, 0.099, 0.   , 0.   , 0.   , 0.   ,\n",
       "       0.   , 0.   , 0.   , 0.   , 0.   , 0.   , 0.   , 0.   , 0.   ,\n",
       "       0.   , 0.   , 0.   , 0.   , 0.   , 0.   , 0.   , 0.   , 0.   ,\n",
       "       0.   , 0.   , 0.   , 0.   , 0.   , 0.   , 0.   , 0.   , 0.   ,\n",
       "       0.   , 0.   , 0.   , 0.   , 0.   , 0.   , 0.   , 0.   , 0.   ,\n",
       "       0.   , 0.   , 0.   , 0.   , 0.   , 0.   , 0.   , 0.   , 0.   ,\n",
       "       0.   , 0.   , 0.   , 0.   , 0.   , 0.   , 0.   , 0.   , 0.   ,\n",
       "       0.   , 0.   ])"
      ]
     },
     "execution_count": 35,
     "metadata": {},
     "output_type": "execute_result"
    }
   ],
   "source": [
    "y_pred"
   ]
  },
  {
   "cell_type": "code",
   "execution_count": null,
   "id": "8a0bd069-a76d-4895-ba8a-a69446054b5b",
   "metadata": {},
   "outputs": [],
   "source": []
  },
  {
   "cell_type": "code",
   "execution_count": 43,
   "id": "2942dd94-aaed-4986-aca9-3ac9132b3556",
   "metadata": {},
   "outputs": [
    {
     "name": "stdout",
     "output_type": "stream",
     "text": [
      "[0.009 0.032   nan]\n"
     ]
    }
   ],
   "source": [
    "import numpy as np\n",
    "from focal_loss import sparse_categorical_focal_loss\n",
    "y_true = [0, 1, 5]\n",
    "y_pred = [[0.8, 0.1, 0.1], [0.2, 0.7, 0.1], [0.2, 0.2, 0.6]]\n",
    "loss = sparse_categorical_focal_loss(y_true, y_pred, gamma=2)\n",
    "np.set_printoptions(precision=3)\n",
    "print(loss.numpy())"
   ]
  },
  {
   "cell_type": "code",
   "execution_count": 102,
   "id": "abdb5b1c-6e82-4601-9d46-8dd4904c6c54",
   "metadata": {},
   "outputs": [],
   "source": [
    "def focal_loss(classes_num, gamma=2., alpha=.25, e=0.1):\n",
    "    # classes_num contains sample number of each classes\n",
    "    # copy from https://github.com/maozezhong/focal_loss_multi_class/blob/master/focal_loss.py\n",
    "    def focal_loss_fixed(target_tensor, prediction_tensor):\n",
    "        '''\n",
    "        prediction_tensor is the output tensor with shape [None, 100], where 100 is the number of classes\n",
    "        target_tensor is the label tensor, same shape as predcition_tensor\n",
    "        '''\n",
    "        import tensorflow as tf\n",
    "        from tensorflow.python.ops import array_ops\n",
    "        \n",
    "        print(classes_num.shape)\n",
    "        print(prediction_tensor.shape)\n",
    "        \n",
    "\n",
    "        # 1# get focal loss with no balanced weight which presented in paper function (4)\n",
    "        zeros = array_ops.zeros_like(prediction_tensor, dtype=prediction_tensor.dtype)\n",
    "        one_minus_p = array_ops.where(tf.greater(target_tensor, zeros), target_tensor - prediction_tensor, zeros)\n",
    "        FT = -1 * (one_minus_p ** gamma) * tf.math.log(tf.clip_by_value(prediction_tensor, 1e-6, 1.0))\n",
    "\n",
    "        # 2# get balanced weight alpha\n",
    "        classes_weight = array_ops.zeros_like(prediction_tensor, dtype=prediction_tensor.dtype)\n",
    "        print(classes_weight)\n",
    "        total_num = float(sum(classes_num))\n",
    "        classes_w_t1 = [(total_num / ff if ff != 0 else 0.0) for ff in classes_num]\n",
    "        sum_ = sum(classes_w_t1)\n",
    "        classes_w_t2 = [ff / sum_ for ff in classes_w_t1]  # scale\n",
    "        # print(classes_w_t2)\n",
    "        classes_w_tensor = tf.convert_to_tensor(classes_w_t2, dtype=prediction_tensor.dtype)\n",
    "        \n",
    "        print(classes_w_tensor)\n",
    "        \n",
    "        classes_weight += classes_w_tensor\n",
    "\n",
    "        alpha = array_ops.where(tf.greater(target_tensor, zeros), classes_weight, zeros)\n",
    "\n",
    "        # 3# get balanced focal loss\n",
    "        balanced_fl = alpha * FT\n",
    "        balanced_fl = tf.reduce_mean(balanced_fl)\n",
    "\n",
    "        # 4# add other op to prevent overfit\n",
    "        # reference : https://spaces.ac.cn/archives/4493\n",
    "        nb_classes = len(classes_num)\n",
    "        fianal_loss = (1 - e) * balanced_fl + e * K.categorical_crossentropy(\n",
    "            K.ones_like(prediction_tensor) / nb_classes, prediction_tensor)\n",
    "        return fianal_loss\n",
    "\n",
    "    return focal_loss_fixed"
   ]
  },
  {
   "cell_type": "code",
   "execution_count": 74,
   "id": "14005df7-b8f2-4ef0-996d-ab90115e3c0a",
   "metadata": {},
   "outputs": [],
   "source": [
    "age_dist = [data[\"age\"][(data.age >= x -10) & (data.age <= x)].count() for x in range(10, 10 * 12 + 1, 10)]\n",
    "age_dist = [age_dist[0]] + age_dist + [age_dist[-1]]"
   ]
  },
  {
   "cell_type": "code",
   "execution_count": 99,
   "id": "af3af907-f609-4237-8f0b-db11d3b9d586",
   "metadata": {},
   "outputs": [
    {
     "name": "stdout",
     "output_type": "stream",
     "text": [
      "[   67   158    54    52   120   182   238   465   616   752  1109  1306\n",
      "  1659  1819  1906  2359  2919  3397  4636  6438  7452  7710  9216  9405\n",
      " 11433 10302 12275 10977 12903 12644 13899 13096 12228 12409 11910 12476\n",
      " 10924 11916 11873  9810  9488  9564  8841  7841  8213  7676  6273  6215\n",
      "  5568  5143  4803  4404  4166  3429  3567  3032  2810  2832  2697  2762\n",
      "  2299  2111  2028  1710  1585  1492  1325  1259  1081  1128   920   863\n",
      "   656   598   548   637   523   460   444   356   319   278   197   233\n",
      "   149   120   133   117    57    65    71    37    33    27    13    16\n",
      "    15     3     7    16]\n"
     ]
    }
   ],
   "source": [
    "age_dist = age.to_numpy().squeeze()\n",
    "print(age_dist)\n",
    "# age_dist = [age_dist[0]] + age_dist + [age_dist[-1]]\n",
    "# print(age_dist)"
   ]
  },
  {
   "cell_type": "code",
   "execution_count": null,
   "id": "35df11a8-4641-409a-9416-823a1ada6fad",
   "metadata": {},
   "outputs": [],
   "source": [
    "y_true = a30\n",
    "y_pred = a30\n",
    "y_true = tf.constant(y_true)\n",
    "y_pred = tf.constant(y_pred)\n",
    "# age_dist = tf.constant(age_dist)"
   ]
  },
  {
   "cell_type": "code",
   "execution_count": 140,
   "id": "02346b8c-21b9-476d-b891-c58f8a39084b",
   "metadata": {},
   "outputs": [
    {
     "data": {
      "text/plain": [
       "<tf.Tensor: shape=(100,), dtype=float64, numpy=\n",
       "array([0.   , 0.   , 0.   , 0.   , 0.   , 0.   , 0.   , 0.   , 0.   ,\n",
       "       0.   , 0.   , 0.   , 0.   , 0.   , 0.   , 0.   , 0.   , 0.   ,\n",
       "       0.   , 0.   , 0.   , 0.099, 0.198, 0.297, 0.396, 0.495, 0.594,\n",
       "       0.693, 0.792, 0.891, 0.99 , 0.891, 0.792, 0.693, 0.594, 0.495,\n",
       "       0.396, 0.297, 0.198, 0.099, 0.   , 0.   , 0.   , 0.   , 0.   ,\n",
       "       0.   , 0.   , 0.   , 0.   , 0.   , 0.   , 0.   , 0.   , 0.   ,\n",
       "       0.   , 0.   , 0.   , 0.   , 0.   , 0.   , 0.   , 0.   , 0.   ,\n",
       "       0.   , 0.   , 0.   , 0.   , 0.   , 0.   , 0.   , 0.   , 0.   ,\n",
       "       0.   , 0.   , 0.   , 0.   , 0.   , 0.   , 0.   , 0.   , 0.   ,\n",
       "       0.   , 0.   , 0.   , 0.   , 0.   , 0.   , 0.   , 0.   , 0.   ,\n",
       "       0.   , 0.   , 0.   , 0.   , 0.   , 0.   , 0.   , 0.   , 0.   ,\n",
       "       0.   ])>"
      ]
     },
     "execution_count": 140,
     "metadata": {},
     "output_type": "execute_result"
    }
   ],
   "source": [
    "y_true"
   ]
  },
  {
   "cell_type": "code",
   "execution_count": 141,
   "id": "ca2bb4d3-9d12-4fa4-80a7-5baa0fa6cf3e",
   "metadata": {},
   "outputs": [
    {
     "data": {
      "text/plain": [
       "<tf.Tensor: shape=(100,), dtype=float64, numpy=\n",
       "array([0.   , 0.   , 0.   , 0.   , 0.   , 0.   , 0.   , 0.   , 0.   ,\n",
       "       0.   , 0.   , 0.   , 0.   , 0.   , 0.   , 0.   , 0.   , 0.   ,\n",
       "       0.   , 0.   , 0.   , 0.099, 0.198, 0.297, 0.396, 0.495, 0.594,\n",
       "       0.693, 0.792, 0.891, 0.99 , 0.891, 0.792, 0.693, 0.594, 0.495,\n",
       "       0.396, 0.297, 0.198, 0.099, 0.   , 0.   , 0.   , 0.   , 0.   ,\n",
       "       0.   , 0.   , 0.   , 0.   , 0.   , 0.   , 0.   , 0.   , 0.   ,\n",
       "       0.   , 0.   , 0.   , 0.   , 0.   , 0.   , 0.   , 0.   , 0.   ,\n",
       "       0.   , 0.   , 0.   , 0.   , 0.   , 0.   , 0.   , 0.   , 0.   ,\n",
       "       0.   , 0.   , 0.   , 0.   , 0.   , 0.   , 0.   , 0.   , 0.   ,\n",
       "       0.   , 0.   , 0.   , 0.   , 0.   , 0.   , 0.   , 0.   , 0.   ,\n",
       "       0.   , 0.   , 0.   , 0.   , 0.   , 0.   , 0.   , 0.   , 0.   ,\n",
       "       0.   ])>"
      ]
     },
     "execution_count": 141,
     "metadata": {},
     "output_type": "execute_result"
    }
   ],
   "source": [
    "y_pred"
   ]
  },
  {
   "cell_type": "code",
   "execution_count": 142,
   "id": "745db81f-68ae-4c28-81b3-0e9817170d6d",
   "metadata": {},
   "outputs": [
    {
     "name": "stdout",
     "output_type": "stream",
     "text": [
      "(100,)\n",
      "(100,)\n",
      "tf.Tensor(\n",
      "[0. 0. 0. 0. 0. 0. 0. 0. 0. 0. 0. 0. 0. 0. 0. 0. 0. 0. 0. 0. 0. 0. 0. 0.\n",
      " 0. 0. 0. 0. 0. 0. 0. 0. 0. 0. 0. 0. 0. 0. 0. 0. 0. 0. 0. 0. 0. 0. 0. 0.\n",
      " 0. 0. 0. 0. 0. 0. 0. 0. 0. 0. 0. 0. 0. 0. 0. 0. 0. 0. 0. 0. 0. 0. 0. 0.\n",
      " 0. 0. 0. 0. 0. 0. 0. 0. 0. 0. 0. 0. 0. 0. 0. 0. 0. 0. 0. 0. 0. 0. 0. 0.\n",
      " 0. 0. 0. 0.], shape=(100,), dtype=float64)\n",
      "tf.Tensor(\n",
      "[1.420e-02 6.021e-03 1.762e-02 1.829e-02 7.928e-03 5.227e-03 3.997e-03\n",
      " 2.046e-03 1.544e-03 1.265e-03 8.578e-04 7.284e-04 5.734e-04 5.230e-04\n",
      " 4.991e-04 4.033e-04 3.259e-04 2.800e-04 2.052e-04 1.478e-04 1.277e-04\n",
      " 1.234e-04 1.032e-04 1.012e-04 8.321e-05 9.234e-05 7.750e-05 8.667e-05\n",
      " 7.373e-05 7.524e-05 6.845e-05 7.264e-05 7.780e-05 7.666e-05 7.988e-05\n",
      " 7.625e-05 8.709e-05 7.984e-05 8.013e-05 9.698e-05 1.003e-04 9.947e-05\n",
      " 1.076e-04 1.213e-04 1.158e-04 1.239e-04 1.517e-04 1.531e-04 1.709e-04\n",
      " 1.850e-04 1.981e-04 2.160e-04 2.284e-04 2.774e-04 2.667e-04 3.138e-04\n",
      " 3.386e-04 3.359e-04 3.527e-04 3.444e-04 4.138e-04 4.507e-04 4.691e-04\n",
      " 5.563e-04 6.002e-04 6.376e-04 7.180e-04 7.556e-04 8.800e-04 8.434e-04\n",
      " 1.034e-03 1.102e-03 1.450e-03 1.591e-03 1.736e-03 1.493e-03 1.819e-03\n",
      " 2.068e-03 2.143e-03 2.672e-03 2.982e-03 3.422e-03 4.829e-03 4.083e-03\n",
      " 6.385e-03 7.928e-03 7.153e-03 8.131e-03 1.669e-02 1.464e-02 1.340e-02\n",
      " 2.571e-02 2.883e-02 3.523e-02 7.318e-02 5.946e-02 6.342e-02 3.171e-01\n",
      " 1.359e-01 5.946e-02], shape=(100,), dtype=float64)\n"
     ]
    },
    {
     "data": {
      "text/plain": [
       "<tf.Tensor: shape=(), dtype=float64, numpy=1.3651577412082407>"
      ]
     },
     "execution_count": 142,
     "metadata": {},
     "output_type": "execute_result"
    }
   ],
   "source": [
    "focal_loss(age_dist)(y_true, y_pred)"
   ]
  },
  {
   "cell_type": "code",
   "execution_count": 9,
   "id": "bcc5bed0-7b6f-40a0-8239-ff1810541e0e",
   "metadata": {},
   "outputs": [],
   "source": [
    "import tensorflow as tf\n",
    "from tensorflow.keras.layers import Conv2D, Input, BatchNormalization, Activation, Flatten, Dense, MaxPooling2D\n",
    "from tensorflow.keras.models import Model\n",
    "import os"
   ]
  },
  {
   "cell_type": "code",
   "execution_count": 10,
   "id": "14138915-5e25-4eac-b6d1-ca0f67144d9b",
   "metadata": {},
   "outputs": [],
   "source": [
    "gpus = tf.config.experimental.list_physical_devices('GPU')\n",
    "for gpu in gpus:\n",
    "    tf.config.experimental.set_memory_growth(gpu, True)\n",
    "os.environ['TF_CPP_MIN_LOG_LEVEL'] = '1'"
   ]
  },
  {
   "cell_type": "code",
   "execution_count": 20,
   "id": "b83f51c5-bc36-44a5-b322-48951c4c3466",
   "metadata": {},
   "outputs": [],
   "source": [
    "inputs = Input(shape=[60,60,3])\n",
    "x = Conv2D(20, kernel_size=5, strides=1)(inputs)\n",
    "x = Activation(\"relu\")(x)\n",
    "x = BatchNormalization()(x)\n",
    "x = MaxPooling2D()(x)\n",
    "\n",
    "x = Conv2D(40, kernel_size=7, strides=1)(x)\n",
    "x = Activation(\"relu\")(x)\n",
    "x = BatchNormalization()(x)\n",
    "x = MaxPooling2D()(x)\n",
    "\n",
    "x = Conv2D(80, kernel_size=11, strides=1)(x)\n",
    "x = Activation(\"relu\")(x)\n",
    "x = BatchNormalization()(x)\n",
    "\n",
    "x = Flatten()(x)\n",
    "\n",
    "model = Model(inputs=inputs, outputs=[x])"
   ]
  },
  {
   "cell_type": "code",
   "execution_count": 21,
   "id": "a934b5b8-a76e-42e0-b89d-60bf12395dd4",
   "metadata": {},
   "outputs": [
    {
     "name": "stdout",
     "output_type": "stream",
     "text": [
      "Model: \"model_6\"\n",
      "_________________________________________________________________\n",
      " Layer (type)                Output Shape              Param #   \n",
      "=================================================================\n",
      " input_8 (InputLayer)        [(None, 60, 60, 3)]       0         \n",
      "                                                                 \n",
      " conv2d_13 (Conv2D)          (None, 56, 56, 20)        1520      \n",
      "                                                                 \n",
      " activation_12 (Activation)  (None, 56, 56, 20)        0         \n",
      "                                                                 \n",
      " batch_normalization_12 (Bat  (None, 56, 56, 20)       80        \n",
      " chNormalization)                                                \n",
      "                                                                 \n",
      " max_pooling2d_8 (MaxPooling  (None, 28, 28, 20)       0         \n",
      " 2D)                                                             \n",
      "                                                                 \n",
      " conv2d_14 (Conv2D)          (None, 22, 22, 40)        39240     \n",
      "                                                                 \n",
      " activation_13 (Activation)  (None, 22, 22, 40)        0         \n",
      "                                                                 \n",
      " batch_normalization_13 (Bat  (None, 22, 22, 40)       160       \n",
      " chNormalization)                                                \n",
      "                                                                 \n",
      " max_pooling2d_9 (MaxPooling  (None, 11, 11, 40)       0         \n",
      " 2D)                                                             \n",
      "                                                                 \n",
      " conv2d_15 (Conv2D)          (None, 1, 1, 80)          387280    \n",
      "                                                                 \n",
      " activation_14 (Activation)  (None, 1, 1, 80)          0         \n",
      "                                                                 \n",
      " batch_normalization_14 (Bat  (None, 1, 1, 80)         320       \n",
      " chNormalization)                                                \n",
      "                                                                 \n",
      " flatten_1 (Flatten)         (None, 80)                0         \n",
      "                                                                 \n",
      "=================================================================\n",
      "Total params: 428,600\n",
      "Trainable params: 428,320\n",
      "Non-trainable params: 280\n",
      "_________________________________________________________________\n"
     ]
    }
   ],
   "source": [
    "model.summary()"
   ]
  },
  {
   "cell_type": "code",
   "execution_count": 2,
   "id": "23858c38-27ec-4e5e-ba5c-376325d6186f",
   "metadata": {},
   "outputs": [],
   "source": [
    "import numpy as np\n",
    "import os\n",
    "import matplotlib.pyplot as plt"
   ]
  },
  {
   "cell_type": "code",
   "execution_count": 54,
   "id": "50024fce-c973-4e81-ace6-02e9a7c53553",
   "metadata": {},
   "outputs": [],
   "source": [
    "his = np.load(\"historyFalse_100\", allow_pickle=True)"
   ]
  },
  {
   "cell_type": "code",
   "execution_count": 55,
   "id": "ad576d35-6bdb-4011-b094-52a9c5471cd6",
   "metadata": {},
   "outputs": [],
   "source": [
    "def visual_history(save_file_path, history, name):\n",
    "    epoch = np.arange(100)\n",
    "    # history = history.history\n",
    "    \n",
    "    # print(len(history['loss']))\n",
    "\n",
    "    try:\n",
    "        history.pop('lr', None)\n",
    "    except:\n",
    "        pass\n",
    "\n",
    "    assert len(history) % 2 == 0, 'History format error.'\n",
    "\n",
    "    half = int(len(history) / 2)\n",
    "    fig, ax = plt.subplots(half, 1, figsize=[10, 20])\n",
    "\n",
    "    for idx, key in enumerate(history):\n",
    "        if idx >= half:\n",
    "            idx -= half\n",
    "        ax[idx].plot(epoch, history[key], label=key)\n",
    "        ax[idx].legend()\n",
    "\n",
    "    fig.savefig('{}chart_{}.jpg'.format(save_file_path, name))"
   ]
  },
  {
   "cell_type": "code",
   "execution_count": 56,
   "id": "197a975c-28e1-4bbd-bd8d-c54fa8f8a8a3",
   "metadata": {},
   "outputs": [
    {
     "data": {
      "image/png": "[encoded data removed]",
      "text/plain": [
       "<Figure size 720x1440 with 7 Axes>"
      ]
     },
     "metadata": {
      "needs_background": "light"
     },
     "output_type": "display_data"
    }
   ],
   "source": [
    "visual_history(\"\", his, 'test.jpg')"
   ]
  },
  {
   "cell_type": "code",
   "execution_count": 3,
   "id": "415f3b6b-df66-40a9-b5a6-2dda80dc7577",
   "metadata": {},
   "outputs": [],
   "source": [
    "import cv2"
   ]
  },
  {
   "cell_type": "code",
   "execution_count": 62,
   "id": "335e81af-815b-4c4f-8efa-7992983ac1b9",
   "metadata": {},
   "outputs": [
    {
     "name": "stdout",
     "output_type": "stream",
     "text": [
      "(720, 1280, 3)\n"
     ]
    }
   ],
   "source": [
    "img = cv2.imread('..\\\\tin.jpg')\n",
    "print(img.shape)"
   ]
  },
  {
   "cell_type": "code",
   "execution_count": 64,
   "id": "ddd26359-6201-47d1-a566-981ef3205fe4",
   "metadata": {},
   "outputs": [
    {
     "data": {
      "text/plain": [
       "-1"
      ]
     },
     "execution_count": 64,
     "metadata": {},
     "output_type": "execute_result"
    }
   ],
   "source": [
    "cv2.imshow(\"s\", img); cv2.waitKey()"
   ]
  },
  {
   "cell_type": "code",
   "execution_count": 67,
   "id": "38047194-bb11-46dc-ae69-cb15677da28c",
   "metadata": {},
   "outputs": [],
   "source": [
    "img = cv2.resize(img, (160, 160))"
   ]
  },
  {
   "cell_type": "code",
   "execution_count": 70,
   "id": "020aea2e-3a99-44ad-aa5e-a7fe09d5348a",
   "metadata": {},
   "outputs": [],
   "source": [
    "img = img / 255.0"
   ]
  },
  {
   "cell_type": "code",
   "execution_count": 72,
   "id": "8c3487de-6388-4ae3-ba2d-e13b2f2e5693",
   "metadata": {},
   "outputs": [
    {
     "data": {
      "text/plain": [
       "-1"
      ]
     },
     "execution_count": 72,
     "metadata": {},
     "output_type": "execute_result"
    }
   ],
   "source": [
    "cv2.imshow(\"s\", img); cv2.waitKey()"
   ]
  },
  {
   "cell_type": "code",
   "execution_count": 76,
   "id": "1067de05-4657-4452-8425-dba366a930de",
   "metadata": {},
   "outputs": [],
   "source": [
    "t = os.listdir(\"..\\\\test\")"
   ]
  },
  {
   "cell_type": "code",
   "execution_count": 107,
   "id": "c3741999-b61d-4194-967b-bba686ff110a",
   "metadata": {},
   "outputs": [
    {
     "name": "stdout",
     "output_type": "stream",
     "text": [
      "(160, 160, 3)\n",
      "(160, 160, 3)\n",
      "(160, 160, 3)\n",
      "(160, 160, 3)\n",
      "(160, 160, 3)\n",
      "(160, 160, 3)\n",
      "6\n"
     ]
    }
   ],
   "source": [
    "imgs = []\n",
    "for i in t:\n",
    "    d = \"..\\\\test\\\\\" + i\n",
    "    img = cv2.imread(d)\n",
    "    img = cv2.resize(img, (160, 160))\n",
    "    img = img / 255.0\n",
    "    print(img.shape)\n",
    "    imgs.append(img)\n",
    "    \n",
    "print(len(imgs)) \n",
    "\n",
    "np_imgs = np.zeros(shape=[6, 160, 160, 3])\n",
    "\n",
    "np_imgs[0] = imgs[0]\n",
    "np_imgs[1] = imgs[1]\n",
    "np_imgs[2] = imgs[2]\n",
    "np_imgs[3] = imgs[3]\n",
    "np_imgs[4] = imgs[4]\n",
    "np_imgs[5] = imgs[5]\n",
    "\n",
    "# np_imgs = np.append([], [imgs[0],\n",
    "#                     imgs[1],\n",
    "#                     imgs[2],\n",
    "#                     imgs[3],\n",
    "#                     imgs[4],\n",
    "#                     imgs[5]], axis=1)"
   ]
  },
  {
   "cell_type": "code",
   "execution_count": 109,
   "id": "1f631205-bcb1-4eda-8fd8-61c439e92e73",
   "metadata": {},
   "outputs": [
    {
     "data": {
      "text/plain": [
       "(6, 160, 160, 3)"
      ]
     },
     "execution_count": 109,
     "metadata": {},
     "output_type": "execute_result"
    }
   ],
   "source": [
    "np_imgs.shape"
   ]
  },
  {
   "cell_type": "code",
   "execution_count": 8,
   "id": "38dd9f50-cdac-4f7d-be90-6ce2f40e31d7",
   "metadata": {},
   "outputs": [],
   "source": [
    "t = os.listdir(\"..\\\\test1\\\\face_data\\\\face_data\")\n",
    "d = \"..\\\\test1\\\\face_data\\\\face_data\""
   ]
  },
  {
   "cell_type": "code",
   "execution_count": 25,
   "id": "3b0eaf86-55d1-4de3-894f-5d323fdc2de9",
   "metadata": {},
   "outputs": [
    {
     "name": "stdout",
     "output_type": "stream",
     "text": [
      "..\\test1\\face_data\\face_data\\Abhijeet_31\n",
      "..\\test1\\face_data\\face_data\\Abhijeet_31\\0.jpg\n",
      "(160, 160, 3)\n"
     ]
    }
   ],
   "source": [
    "for folder in t:\n",
    "    # print(os.path.join(d, folder))\n",
    "    imgs_list = os.path.join(d, folder)\n",
    "    print(imgs_list)\n",
    "    for imgdir in os.listdir(imgs_list):\n",
    "        idir = os.path.join(imgs_list, imgdir)\n",
    "        print(idir)\n",
    "        img = cv2.imread(idir)\n",
    "        img = cv2.resize(img, (160, 160))\n",
    "        img = cv2.cvtColor(img, cv2.COLOR_BGR2RGB)\n",
    "        img = img / 255.0\n",
    "        img = np.expand_dims(img, axis=0)\n",
    "        print(img.shape)\n",
    "        break\n",
    "    break"
   ]
  },
  {
   "cell_type": "code",
   "execution_count": null,
   "id": "31b17348-490d-42e2-a6f1-eb3a73d77815",
   "metadata": {},
   "outputs": [],
   "source": []
  }
 ],
 "metadata": {
  "kernelspec": {
   "display_name": "Python 3 (ipykernel)",
   "language": "python",
   "name": "python3"
  },
  "language_info": {
   "codemirror_mode": {
    "name": "ipython",
    "version": 3
   },
   "file_extension": ".py",
   "mimetype": "text/x-python",
   "name": "python",
   "nbconvert_exporter": "python",
   "pygments_lexer": "ipython3",
   "version": "3.7.11"
  }
 },
 "nbformat": 4,
 "nbformat_minor": 5
}
