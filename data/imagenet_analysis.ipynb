{
 "cells": [
  {
   "cell_type": "code",
   "execution_count": 1,
   "id": "87e03348-3d20-4433-a03b-358326700045",
   "metadata": {},
   "outputs": [],
   "source": [
    "import tensorflow as tf"
   ]
  },
  {
   "cell_type": "code",
   "execution_count": 2,
   "id": "80b27d0d-3261-4e35-942b-d564f708f912",
   "metadata": {},
   "outputs": [
    {
     "name": "stdout",
     "output_type": "stream",
     "text": [
      "Found 11060223 files belonging to 10450 classes.\n"
     ]
    }
   ],
   "source": [
    "data = tf.keras.preprocessing.image_dataset_from_directory(r\"D:\\Dataset\\Raw\\imagenet21k_resized\\imagenet21k_train\", image_size=(64,64))"
   ]
  },
  {
   "cell_type": "code",
   "execution_count": 3,
   "id": "a8ff37b0-1c52-4514-9985-1dc5c5e22289",
   "metadata": {},
   "outputs": [
    {
     "data": {
      "text/plain": [
       "<BatchDataset shapes: ((None, 64, 64, 3), (None,)), types: (tf.float32, tf.int32)>"
      ]
     },
     "execution_count": 3,
     "metadata": {},
     "output_type": "execute_result"
    }
   ],
   "source": [
    "data"
   ]
  },
  {
   "cell_type": "code",
   "execution_count": 10,
   "id": "347f602e-05b2-4b7b-9910-579ad9badfe7",
   "metadata": {},
   "outputs": [],
   "source": [
    "class_names = data.class_names"
   ]
  },
  {
   "cell_type": "code",
   "execution_count": 12,
   "id": "79ecb3cb-312d-4d6b-9afc-ceb74e73b19e",
   "metadata": {},
   "outputs": [
    {
     "data": {
      "text/plain": [
       "10450"
      ]
     },
     "execution_count": 12,
     "metadata": {},
     "output_type": "execute_result"
    }
   ],
   "source": [
    "len(data.class_names)"
   ]
  },
  {
   "cell_type": "code",
   "execution_count": 16,
   "id": "ba4cb2ef-9a85-4414-8d78-2c37d35577e4",
   "metadata": {},
   "outputs": [
    {
     "data": {
      "text/plain": [
       "10450"
      ]
     },
     "execution_count": 16,
     "metadata": {},
     "output_type": "execute_result"
    }
   ],
   "source": [
    "len(data.class_names)"
   ]
  },
  {
   "cell_type": "code",
   "execution_count": 4,
   "id": "8cbcc9be-a49e-4ce5-8ec9-1aa385c051eb",
   "metadata": {},
   "outputs": [],
   "source": [
    "import cv2\n",
    "import os\n",
    "from tqdm import tqdm\n",
    "import numpy as np"
   ]
  },
  {
   "cell_type": "code",
   "execution_count": 2,
   "id": "35a31926-8a7c-4dd0-bed5-ae666f13ef37",
   "metadata": {},
   "outputs": [
    {
     "name": "stderr",
     "output_type": "stream",
     "text": [
      "100%|███████████████████████████████████████████████████████████████████████████| 10450/10450 [01:17<00:00, 135.54it/s]\n"
     ]
    }
   ],
   "source": [
    "main_dir = \"D:\\\\Dataset\\\\Raw\\\\imagenet21k_resized\\\\imagenet21k_train\"\n",
    "all_img_dir = []\n",
    "\n",
    "# List all image dir\n",
    "try:\n",
    "    for age_dir in tqdm(os.listdir(main_dir)):\n",
    "        sub_dir = os.path.join(main_dir, age_dir)\n",
    "\n",
    "        for img_dir in os.listdir(sub_dir):\n",
    "            img_dir = os.path.join(sub_dir, img_dir)\n",
    "\n",
    "            all_img_dir.append(img_dir)\n",
    "\n",
    "except NotADirectoryError as e:\n",
    "    print(\"File appeared: {}\".format(e))"
   ]
  },
  {
   "cell_type": "code",
   "execution_count": 5,
   "id": "5e1c5ca3-4087-49c6-bfb8-abb92045c9dd",
   "metadata": {},
   "outputs": [],
   "source": [
    "all_img_dir = np.array(all_img_dir)"
   ]
  },
  {
   "cell_type": "code",
   "execution_count": 18,
   "id": "14466529-d6b0-439c-b95e-beda5233b780",
   "metadata": {},
   "outputs": [
    {
     "data": {
      "text/plain": [
       "30553.0"
      ]
     },
     "execution_count": 18,
     "metadata": {},
     "output_type": "execute_result"
    }
   ],
   "source": [
    "all_img_dir.shape[0]/362"
   ]
  },
  {
   "cell_type": "code",
   "execution_count": 20,
   "id": "45946464-9b6b-4959-a9eb-5d3c47325728",
   "metadata": {},
   "outputs": [],
   "source": [
    "splited = np.split(all_img_dir, 362)"
   ]
  },
  {
   "cell_type": "code",
   "execution_count": 24,
   "id": "2ce4e834-d283-4c1d-b7a9-71ee22424d00",
   "metadata": {},
   "outputs": [
    {
     "data": {
      "text/plain": [
       "array(['D:\\\\Dataset\\\\Raw\\\\imagenet21k_resized\\\\imagenet21k_train\\\\n00005787\\\\n00005787_10684.JPEG',\n",
       "       'D:\\\\Dataset\\\\Raw\\\\imagenet21k_resized\\\\imagenet21k_train\\\\n00005787\\\\n00005787_10703.JPEG',\n",
       "       'D:\\\\Dataset\\\\Raw\\\\imagenet21k_resized\\\\imagenet21k_train\\\\n00005787\\\\n00005787_10718.JPEG',\n",
       "       ...,\n",
       "       'D:\\\\Dataset\\\\Raw\\\\imagenet21k_resized\\\\imagenet21k_train\\\\n00441073\\\\n00441073_1838.JPEG',\n",
       "       'D:\\\\Dataset\\\\Raw\\\\imagenet21k_resized\\\\imagenet21k_train\\\\n00441073\\\\n00441073_1843.JPEG',\n",
       "       'D:\\\\Dataset\\\\Raw\\\\imagenet21k_resized\\\\imagenet21k_train\\\\n00441073\\\\n00441073_1844.JPEG'],\n",
       "      dtype='<U84')"
      ]
     },
     "execution_count": 24,
     "metadata": {},
     "output_type": "execute_result"
    }
   ],
   "source": [
    "splited[0]"
   ]
  },
  {
   "cell_type": "code",
   "execution_count": 4,
   "id": "df3779fe-82b4-481e-b6f2-829d754d9bb2",
   "metadata": {},
   "outputs": [
    {
     "name": "stderr",
     "output_type": "stream",
     "text": [
      "  2%|█▍                                                                  | 230822/11060186 [34:27<26:56:28, 111.66it/s]\n"
     ]
    },
    {
     "ename": "KeyboardInterrupt",
     "evalue": "",
     "output_type": "error",
     "traceback": [
      "\u001b[1;31m---------------------------------------------------------------------------\u001b[0m",
      "\u001b[1;31mKeyboardInterrupt\u001b[0m                         Traceback (most recent call last)",
      "\u001b[1;32m~\\AppData\\Local\\Temp/ipykernel_612/2356092.py\u001b[0m in \u001b[0;36m<module>\u001b[1;34m\u001b[0m\n\u001b[0;32m      1\u001b[0m \u001b[1;32mfor\u001b[0m \u001b[0mi\u001b[0m \u001b[1;32min\u001b[0m \u001b[0mtqdm\u001b[0m\u001b[1;33m(\u001b[0m\u001b[0mall_img_dir\u001b[0m\u001b[1;33m)\u001b[0m\u001b[1;33m:\u001b[0m\u001b[1;33m\u001b[0m\u001b[1;33m\u001b[0m\u001b[0m\n\u001b[0;32m      2\u001b[0m     \u001b[1;32mtry\u001b[0m\u001b[1;33m:\u001b[0m\u001b[1;33m\u001b[0m\u001b[1;33m\u001b[0m\u001b[0m\n\u001b[1;32m----> 3\u001b[1;33m         \u001b[0mf\u001b[0m \u001b[1;33m=\u001b[0m \u001b[0mopen\u001b[0m\u001b[1;33m(\u001b[0m\u001b[0mi\u001b[0m\u001b[1;33m,\u001b[0m \u001b[1;34m'rb'\u001b[0m\u001b[1;33m)\u001b[0m\u001b[1;33m\u001b[0m\u001b[1;33m\u001b[0m\u001b[0m\n\u001b[0m\u001b[0;32m      4\u001b[0m     \u001b[1;32mexcept\u001b[0m \u001b[0mException\u001b[0m \u001b[1;32mas\u001b[0m \u001b[0me\u001b[0m\u001b[1;33m:\u001b[0m\u001b[1;33m\u001b[0m\u001b[1;33m\u001b[0m\u001b[0m\n\u001b[0;32m      5\u001b[0m         \u001b[0mprint\u001b[0m\u001b[1;33m(\u001b[0m\u001b[0me\u001b[0m\u001b[1;33m)\u001b[0m\u001b[1;33m\u001b[0m\u001b[1;33m\u001b[0m\u001b[0m\n",
      "\u001b[1;31mKeyboardInterrupt\u001b[0m: "
     ]
    }
   ],
   "source": [
    "for i in tqdm(all_img_dir):\n",
    "    try:\n",
    "        f = open(i, 'rb')\n",
    "    except Exception as e:\n",
    "        print(e)"
   ]
  },
  {
   "cell_type": "code",
   "execution_count": 4,
   "id": "de7ccbfa-31d5-4b9d-bfd1-1e150da390ca",
   "metadata": {},
   "outputs": [
    {
     "name": "stderr",
     "output_type": "stream",
     "text": [
      "100%|███████████████████████████████████████████████████████████████████████████| 10450/10450 [00:11<00:00, 907.62it/s]\n"
     ]
    }
   ],
   "source": [
    "main_dir = \"D:\\\\Dataset\\\\Raw\\\\imagenet21k_resized\\\\imagenet21k_val\"\n",
    "all_img_dir = []\n",
    "\n",
    "# List all image dir\n",
    "try:\n",
    "    for age_dir in tqdm(os.listdir(main_dir)):\n",
    "        sub_dir = os.path.join(main_dir, age_dir)\n",
    "\n",
    "        for img_dir in os.listdir(sub_dir):\n",
    "            img_dir = os.path.join(sub_dir, img_dir)\n",
    "\n",
    "            all_img_dir.append(img_dir)\n",
    "\n",
    "except NotADirectoryError as e:\n",
    "    print(\"File appeared: {}\".format(e))"
   ]
  },
  {
   "cell_type": "code",
   "execution_count": 5,
   "id": "2e61605d-bcb3-4c01-8d8d-92755862e7c2",
   "metadata": {},
   "outputs": [
    {
     "name": "stderr",
     "output_type": "stream",
     "text": [
      "100%|█████████████████████████████████████████████████████████████████████████| 522499/522499 [24:01<00:00, 362.58it/s]\n"
     ]
    }
   ],
   "source": [
    "for i in tqdm(all_img_dir):\n",
    "    try:\n",
    "        img = cv2.imread(i)\n",
    "    except Exception as e:\n",
    "        print(e)"
   ]
  },
  {
   "cell_type": "code",
   "execution_count": 5,
   "id": "cb751e9f-2ad2-4f73-b6f5-03d9cfb78e56",
   "metadata": {},
   "outputs": [
    {
     "name": "stdout",
     "output_type": "stream",
     "text": [
      "Done in 0.2504 seconds\n"
     ]
    }
   ],
   "source": [
    "import multiprocessing\n",
    "import time\n",
    "\n",
    "def sleepy_man(sec):\n",
    "    print('Starting to sleep')\n",
    "    time.sleep(sec)\n",
    "    print('Done sleeping')\n",
    "\n",
    "tic = time.time()\n",
    "\n",
    "process_list = []\n",
    "for i in range(10):\n",
    "    p =  multiprocessing.Process(target= sleepy_man, args = [2])\n",
    "    p.start()\n",
    "    process_list.append(p)\n",
    "\n",
    "for process in process_list:\n",
    "    process.join()\n",
    "\n",
    "toc = time.time()\n",
    "\n",
    "print('Done in {:.4f} seconds'.format(toc-tic))"
   ]
  },
  {
   "cell_type": "code",
   "execution_count": null,
   "id": "9d2d1fe4-0017-4b3e-bafa-4bab077be8c0",
   "metadata": {},
   "outputs": [],
   "source": []
  }
 ],
 "metadata": {
  "kernelspec": {
   "display_name": "Python 3 (ipykernel)",
   "language": "python",
   "name": "python3"
  },
  "language_info": {
   "codemirror_mode": {
    "name": "ipython",
    "version": 3
   },
   "file_extension": ".py",
   "mimetype": "text/x-python",
   "name": "python",
   "nbconvert_exporter": "python",
   "pygments_lexer": "ipython3",
   "version": "3.7.11"
  }
 },
 "nbformat": 4,
 "nbformat_minor": 5
}
