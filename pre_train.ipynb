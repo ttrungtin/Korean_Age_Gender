{
 "cells": [
  {
   "cell_type": "code",
   "execution_count": 22,
   "id": "3d129f4d-ea2d-41b5-b9eb-181d4ba6cd77",
   "metadata": {},
   "outputs": [],
   "source": [
    "import tensorflow as tf\n",
    "from model import cnn\n",
    "from tensorflow.keras.layers import Conv2D, Input, BatchNormalization, Activation, Flatten, Dense, ReLU, \\\n",
    "    AveragePooling2D, Dropout\n",
    "from tensorflow.keras.models import Model"
   ]
  },
  {
   "cell_type": "code",
   "execution_count": 2,
   "id": "f4d4660a-8c21-450f-bd0c-57952f12c916",
   "metadata": {},
   "outputs": [],
   "source": [
    "gpus = tf.config.experimental.list_physical_devices('GPU')\n",
    "for gpu in gpus:\n",
    "    tf.config.experimental.set_memory_growth(gpu, True)"
   ]
  },
  {
   "cell_type": "code",
   "execution_count": 5,
   "id": "1cd12f73-ecf1-418e-9ee6-392d40c217c7",
   "metadata": {},
   "outputs": [],
   "source": [
    "input_shape = [160, 160, 3]\n",
    "num_classes = 10450\n",
    "image_net_pre_train = True\n",
    "model = cnn.create_model_all(input_shape=input_shape, num_classes=num_classes, image_net_pre_train=True)"
   ]
  },
  {
   "cell_type": "code",
   "execution_count": 6,
   "id": "8c813f02-cc1d-4dad-b136-93c50e8abccf",
   "metadata": {},
   "outputs": [
    {
     "name": "stdout",
     "output_type": "stream",
     "text": [
      "Model: \"model_1\"\n",
      "_________________________________________________________________\n",
      " Layer (type)                Output Shape              Param #   \n",
      "=================================================================\n",
      " input_2 (InputLayer)        [(None, 160, 160, 3)]     0         \n",
      "                                                                 \n",
      " conv2d_5 (Conv2D)           (None, 158, 158, 32)      896       \n",
      "                                                                 \n",
      " batch_normalization_5 (Batc  (None, 158, 158, 32)     128       \n",
      " hNormalization)                                                 \n",
      "                                                                 \n",
      " re_lu_5 (ReLU)              (None, 158, 158, 32)      0         \n",
      "                                                                 \n",
      " average_pooling2d_4 (Averag  (None, 79, 79, 32)       0         \n",
      " ePooling2D)                                                     \n",
      "                                                                 \n",
      " conv2d_6 (Conv2D)           (None, 77, 77, 32)        9248      \n",
      "                                                                 \n",
      " batch_normalization_6 (Batc  (None, 77, 77, 32)       128       \n",
      " hNormalization)                                                 \n",
      "                                                                 \n",
      " re_lu_6 (ReLU)              (None, 77, 77, 32)        0         \n",
      "                                                                 \n",
      " average_pooling2d_5 (Averag  (None, 38, 38, 32)       0         \n",
      " ePooling2D)                                                     \n",
      "                                                                 \n",
      " conv2d_7 (Conv2D)           (None, 36, 36, 32)        9248      \n",
      "                                                                 \n",
      " batch_normalization_7 (Batc  (None, 36, 36, 32)       128       \n",
      " hNormalization)                                                 \n",
      "                                                                 \n",
      " re_lu_7 (ReLU)              (None, 36, 36, 32)        0         \n",
      "                                                                 \n",
      " average_pooling2d_6 (Averag  (None, 18, 18, 32)       0         \n",
      " ePooling2D)                                                     \n",
      "                                                                 \n",
      " conv2d_8 (Conv2D)           (None, 16, 16, 32)        9248      \n",
      "                                                                 \n",
      " batch_normalization_8 (Batc  (None, 16, 16, 32)       128       \n",
      " hNormalization)                                                 \n",
      "                                                                 \n",
      " re_lu_8 (ReLU)              (None, 16, 16, 32)        0         \n",
      "                                                                 \n",
      " average_pooling2d_7 (Averag  (None, 8, 8, 32)         0         \n",
      " ePooling2D)                                                     \n",
      "                                                                 \n",
      " conv2d_9 (Conv2D)           (None, 8, 8, 32)          1056      \n",
      "                                                                 \n",
      " batch_normalization_9 (Batc  (None, 8, 8, 32)         128       \n",
      " hNormalization)                                                 \n",
      "                                                                 \n",
      " re_lu_9 (ReLU)              (None, 8, 8, 32)          0         \n",
      "                                                                 \n",
      " flatten_1 (Flatten)         (None, 2048)              0         \n",
      "                                                                 \n",
      " cate (Dense)                (None, 10450)             21412050  \n",
      "                                                                 \n",
      "=================================================================\n",
      "Total params: 21,442,386\n",
      "Trainable params: 21,442,066\n",
      "Non-trainable params: 320\n",
      "_________________________________________________________________\n"
     ]
    }
   ],
   "source": [
    "model.summary()"
   ]
  },
  {
   "cell_type": "code",
   "execution_count": 20,
   "id": "0644c84c-d0d2-442d-9441-529c09240226",
   "metadata": {},
   "outputs": [],
   "source": [
    "x = model.layers[-2].output"
   ]
  },
  {
   "cell_type": "code",
   "execution_count": 23,
   "id": "ee831383-923e-4a1f-af7c-618bb04ae8bb",
   "metadata": {},
   "outputs": [],
   "source": [
    "x = Dense(64)(x)\n",
    "out_1 = Dense(1)(x)\n",
    "out_2 = Dense(5)(x)\n",
    "\n",
    "full = Model(inputs=model.inputs, outputs=[out_1, out_2])"
   ]
  },
  {
   "cell_type": "code",
   "execution_count": 24,
   "id": "baaea788-b42f-4aa6-bd28-8067d8af39cc",
   "metadata": {},
   "outputs": [
    {
     "name": "stdout",
     "output_type": "stream",
     "text": [
      "Model: \"model_2\"\n",
      "__________________________________________________________________________________________________\n",
      " Layer (type)                   Output Shape         Param #     Connected to                     \n",
      "==================================================================================================\n",
      " input_2 (InputLayer)           [(None, 160, 160, 3  0           []                               \n",
      "                                )]                                                                \n",
      "                                                                                                  \n",
      " conv2d_5 (Conv2D)              (None, 158, 158, 32  896         ['input_2[0][0]']                \n",
      "                                )                                                                 \n",
      "                                                                                                  \n",
      " batch_normalization_5 (BatchNo  (None, 158, 158, 32  128        ['conv2d_5[0][0]']               \n",
      " rmalization)                   )                                                                 \n",
      "                                                                                                  \n",
      " re_lu_5 (ReLU)                 (None, 158, 158, 32  0           ['batch_normalization_5[0][0]']  \n",
      "                                )                                                                 \n",
      "                                                                                                  \n",
      " average_pooling2d_4 (AveragePo  (None, 79, 79, 32)  0           ['re_lu_5[0][0]']                \n",
      " oling2D)                                                                                         \n",
      "                                                                                                  \n",
      " conv2d_6 (Conv2D)              (None, 77, 77, 32)   9248        ['average_pooling2d_4[0][0]']    \n",
      "                                                                                                  \n",
      " batch_normalization_6 (BatchNo  (None, 77, 77, 32)  128         ['conv2d_6[0][0]']               \n",
      " rmalization)                                                                                     \n",
      "                                                                                                  \n",
      " re_lu_6 (ReLU)                 (None, 77, 77, 32)   0           ['batch_normalization_6[0][0]']  \n",
      "                                                                                                  \n",
      " average_pooling2d_5 (AveragePo  (None, 38, 38, 32)  0           ['re_lu_6[0][0]']                \n",
      " oling2D)                                                                                         \n",
      "                                                                                                  \n",
      " conv2d_7 (Conv2D)              (None, 36, 36, 32)   9248        ['average_pooling2d_5[0][0]']    \n",
      "                                                                                                  \n",
      " batch_normalization_7 (BatchNo  (None, 36, 36, 32)  128         ['conv2d_7[0][0]']               \n",
      " rmalization)                                                                                     \n",
      "                                                                                                  \n",
      " re_lu_7 (ReLU)                 (None, 36, 36, 32)   0           ['batch_normalization_7[0][0]']  \n",
      "                                                                                                  \n",
      " average_pooling2d_6 (AveragePo  (None, 18, 18, 32)  0           ['re_lu_7[0][0]']                \n",
      " oling2D)                                                                                         \n",
      "                                                                                                  \n",
      " conv2d_8 (Conv2D)              (None, 16, 16, 32)   9248        ['average_pooling2d_6[0][0]']    \n",
      "                                                                                                  \n",
      " batch_normalization_8 (BatchNo  (None, 16, 16, 32)  128         ['conv2d_8[0][0]']               \n",
      " rmalization)                                                                                     \n",
      "                                                                                                  \n",
      " re_lu_8 (ReLU)                 (None, 16, 16, 32)   0           ['batch_normalization_8[0][0]']  \n",
      "                                                                                                  \n",
      " average_pooling2d_7 (AveragePo  (None, 8, 8, 32)    0           ['re_lu_8[0][0]']                \n",
      " oling2D)                                                                                         \n",
      "                                                                                                  \n",
      " conv2d_9 (Conv2D)              (None, 8, 8, 32)     1056        ['average_pooling2d_7[0][0]']    \n",
      "                                                                                                  \n",
      " batch_normalization_9 (BatchNo  (None, 8, 8, 32)    128         ['conv2d_9[0][0]']               \n",
      " rmalization)                                                                                     \n",
      "                                                                                                  \n",
      " re_lu_9 (ReLU)                 (None, 8, 8, 32)     0           ['batch_normalization_9[0][0]']  \n",
      "                                                                                                  \n",
      " flatten_1 (Flatten)            (None, 2048)         0           ['re_lu_9[0][0]']                \n",
      "                                                                                                  \n",
      " dense (Dense)                  (None, 64)           131136      ['flatten_1[0][0]']              \n",
      "                                                                                                  \n",
      " dense_3 (Dense)                (None, 64)           4160        ['dense[0][0]']                  \n",
      "                                                                                                  \n",
      " dense_4 (Dense)                (None, 1)            65          ['dense_3[0][0]']                \n",
      "                                                                                                  \n",
      " dense_5 (Dense)                (None, 5)            325         ['dense_3[0][0]']                \n",
      "                                                                                                  \n",
      "==================================================================================================\n",
      "Total params: 166,022\n",
      "Trainable params: 165,702\n",
      "Non-trainable params: 320\n",
      "__________________________________________________________________________________________________\n"
     ]
    }
   ],
   "source": [
    "full.summary()"
   ]
  },
  {
   "cell_type": "code",
   "execution_count": null,
   "id": "8a70b8bc-c262-48e3-8c1f-623a7965f391",
   "metadata": {},
   "outputs": [],
   "source": []
  }
 ],
 "metadata": {
  "kernelspec": {
   "display_name": "Python 3 (ipykernel)",
   "language": "python",
   "name": "python3"
  },
  "language_info": {
   "codemirror_mode": {
    "name": "ipython",
    "version": 3
   },
   "file_extension": ".py",
   "mimetype": "text/x-python",
   "name": "python",
   "nbconvert_exporter": "python",
   "pygments_lexer": "ipython3",
   "version": "3.7.11"
  }
 },
 "nbformat": 4,
 "nbformat_minor": 5
}
